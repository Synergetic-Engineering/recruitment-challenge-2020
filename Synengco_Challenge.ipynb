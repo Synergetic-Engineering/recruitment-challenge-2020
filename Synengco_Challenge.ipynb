{
 "cells": [
  {
   "cell_type": "code",
   "execution_count": 1,
   "metadata": {},
   "outputs": [],
   "source": [
    "import numpy as np\n",
    "import pandas as pd\n",
    "import glob\n",
    "import math\n",
    "import matplotlib.pyplot as plt\n",
    "from sklearn.metrics import mean_squared_error\n",
    "from ipywidgets import interact"
   ]
  },
  {
   "cell_type": "markdown",
   "metadata": {},
   "source": [
    "### Loading data:\n"
   ]
  },
  {
   "cell_type": "code",
   "execution_count": 2,
   "metadata": {},
   "outputs": [
    {
     "data": {
      "text/html": [
       "<div>\n",
       "<style scoped>\n",
       "    .dataframe tbody tr th:only-of-type {\n",
       "        vertical-align: middle;\n",
       "    }\n",
       "\n",
       "    .dataframe tbody tr th {\n",
       "        vertical-align: top;\n",
       "    }\n",
       "\n",
       "    .dataframe thead th {\n",
       "        text-align: right;\n",
       "    }\n",
       "</style>\n",
       "<table border=\"1\" class=\"dataframe\">\n",
       "  <thead>\n",
       "    <tr style=\"text-align: right;\">\n",
       "      <th></th>\n",
       "      <th>Year</th>\n",
       "      <th>Month</th>\n",
       "      <th>Day</th>\n",
       "      <th>1</th>\n",
       "      <th>2</th>\n",
       "      <th>3</th>\n",
       "      <th>4</th>\n",
       "      <th>5</th>\n",
       "      <th>6</th>\n",
       "      <th>7</th>\n",
       "      <th>...</th>\n",
       "      <th>39</th>\n",
       "      <th>40</th>\n",
       "      <th>41</th>\n",
       "      <th>42</th>\n",
       "      <th>43</th>\n",
       "      <th>44</th>\n",
       "      <th>45</th>\n",
       "      <th>46</th>\n",
       "      <th>47</th>\n",
       "      <th>48</th>\n",
       "    </tr>\n",
       "  </thead>\n",
       "  <tbody>\n",
       "    <tr>\n",
       "      <th>0</th>\n",
       "      <td>2015</td>\n",
       "      <td>7</td>\n",
       "      <td>1</td>\n",
       "      <td>5273.441024</td>\n",
       "      <td>5133.091821</td>\n",
       "      <td>4994.505581</td>\n",
       "      <td>4873.605892</td>\n",
       "      <td>4831.396144</td>\n",
       "      <td>5140.329174</td>\n",
       "      <td>5159.066650</td>\n",
       "      <td>...</td>\n",
       "      <td>6779.703506</td>\n",
       "      <td>6755.395335</td>\n",
       "      <td>6695.288132</td>\n",
       "      <td>6526.270261</td>\n",
       "      <td>6409.664775</td>\n",
       "      <td>6289.853567</td>\n",
       "      <td>6122.595618</td>\n",
       "      <td>5963.102617</td>\n",
       "      <td>5825.947731</td>\n",
       "      <td>5674.720985</td>\n",
       "    </tr>\n",
       "    <tr>\n",
       "      <th>1</th>\n",
       "      <td>2015</td>\n",
       "      <td>7</td>\n",
       "      <td>2</td>\n",
       "      <td>5888.685259</td>\n",
       "      <td>5728.944816</td>\n",
       "      <td>5582.301034</td>\n",
       "      <td>5454.207187</td>\n",
       "      <td>5365.451134</td>\n",
       "      <td>5313.980779</td>\n",
       "      <td>5269.518294</td>\n",
       "      <td>...</td>\n",
       "      <td>7683.761713</td>\n",
       "      <td>7655.302004</td>\n",
       "      <td>7641.329625</td>\n",
       "      <td>7485.313032</td>\n",
       "      <td>7272.070802</td>\n",
       "      <td>7015.247465</td>\n",
       "      <td>6734.378176</td>\n",
       "      <td>6494.121486</td>\n",
       "      <td>6290.623693</td>\n",
       "      <td>6134.067290</td>\n",
       "    </tr>\n",
       "    <tr>\n",
       "      <th>2</th>\n",
       "      <td>2015</td>\n",
       "      <td>7</td>\n",
       "      <td>3</td>\n",
       "      <td>5667.620444</td>\n",
       "      <td>5515.392757</td>\n",
       "      <td>5341.836790</td>\n",
       "      <td>5196.942134</td>\n",
       "      <td>5056.199409</td>\n",
       "      <td>4980.861450</td>\n",
       "      <td>4942.252093</td>\n",
       "      <td>...</td>\n",
       "      <td>7063.751526</td>\n",
       "      <td>7032.080842</td>\n",
       "      <td>7029.178781</td>\n",
       "      <td>6891.966229</td>\n",
       "      <td>6698.359476</td>\n",
       "      <td>6512.647386</td>\n",
       "      <td>6262.692696</td>\n",
       "      <td>6055.310904</td>\n",
       "      <td>5879.653882</td>\n",
       "      <td>5706.724469</td>\n",
       "    </tr>\n",
       "    <tr>\n",
       "      <th>3</th>\n",
       "      <td>2015</td>\n",
       "      <td>7</td>\n",
       "      <td>4</td>\n",
       "      <td>5535.836926</td>\n",
       "      <td>5394.299933</td>\n",
       "      <td>5232.641947</td>\n",
       "      <td>5089.031757</td>\n",
       "      <td>4994.850934</td>\n",
       "      <td>4923.002309</td>\n",
       "      <td>4889.630704</td>\n",
       "      <td>...</td>\n",
       "      <td>6894.305737</td>\n",
       "      <td>6863.093659</td>\n",
       "      <td>6860.455040</td>\n",
       "      <td>6699.032822</td>\n",
       "      <td>6490.402292</td>\n",
       "      <td>6318.873948</td>\n",
       "      <td>6146.543885</td>\n",
       "      <td>5959.039287</td>\n",
       "      <td>5820.233400</td>\n",
       "      <td>5636.074844</td>\n",
       "    </tr>\n",
       "    <tr>\n",
       "      <th>4</th>\n",
       "      <td>2015</td>\n",
       "      <td>7</td>\n",
       "      <td>5</td>\n",
       "      <td>5482.470351</td>\n",
       "      <td>5331.171354</td>\n",
       "      <td>5182.633170</td>\n",
       "      <td>5063.658062</td>\n",
       "      <td>4968.052846</td>\n",
       "      <td>4918.025886</td>\n",
       "      <td>4879.585556</td>\n",
       "      <td>...</td>\n",
       "      <td>6572.937802</td>\n",
       "      <td>6585.305208</td>\n",
       "      <td>6580.163545</td>\n",
       "      <td>6482.912653</td>\n",
       "      <td>6325.262359</td>\n",
       "      <td>6194.981119</td>\n",
       "      <td>5804.265981</td>\n",
       "      <td>5832.457251</td>\n",
       "      <td>5813.144842</td>\n",
       "      <td>5669.194827</td>\n",
       "    </tr>\n",
       "  </tbody>\n",
       "</table>\n",
       "<p>5 rows × 51 columns</p>\n",
       "</div>"
      ],
      "text/plain": [
       "   Year  Month  Day            1            2            3            4  \\\n",
       "0  2015      7    1  5273.441024  5133.091821  4994.505581  4873.605892   \n",
       "1  2015      7    2  5888.685259  5728.944816  5582.301034  5454.207187   \n",
       "2  2015      7    3  5667.620444  5515.392757  5341.836790  5196.942134   \n",
       "3  2015      7    4  5535.836926  5394.299933  5232.641947  5089.031757   \n",
       "4  2015      7    5  5482.470351  5331.171354  5182.633170  5063.658062   \n",
       "\n",
       "             5            6            7  ...           39           40  \\\n",
       "0  4831.396144  5140.329174  5159.066650  ...  6779.703506  6755.395335   \n",
       "1  5365.451134  5313.980779  5269.518294  ...  7683.761713  7655.302004   \n",
       "2  5056.199409  4980.861450  4942.252093  ...  7063.751526  7032.080842   \n",
       "3  4994.850934  4923.002309  4889.630704  ...  6894.305737  6863.093659   \n",
       "4  4968.052846  4918.025886  4879.585556  ...  6572.937802  6585.305208   \n",
       "\n",
       "            41           42           43           44           45  \\\n",
       "0  6695.288132  6526.270261  6409.664775  6289.853567  6122.595618   \n",
       "1  7641.329625  7485.313032  7272.070802  7015.247465  6734.378176   \n",
       "2  7029.178781  6891.966229  6698.359476  6512.647386  6262.692696   \n",
       "3  6860.455040  6699.032822  6490.402292  6318.873948  6146.543885   \n",
       "4  6580.163545  6482.912653  6325.262359  6194.981119  5804.265981   \n",
       "\n",
       "            46           47           48  \n",
       "0  5963.102617  5825.947731  5674.720985  \n",
       "1  6494.121486  6290.623693  6134.067290  \n",
       "2  6055.310904  5879.653882  5706.724469  \n",
       "3  5959.039287  5820.233400  5636.074844  \n",
       "4  5832.457251  5813.144842  5669.194827  \n",
       "\n",
       "[5 rows x 51 columns]"
      ]
     },
     "execution_count": 2,
     "metadata": {},
     "output_type": "execute_result"
    }
   ],
   "source": [
    "# load 5 years given data\n",
    "\n",
    "path =r'C:\\Users\\moja\\Downloads\\recruitment-challenge-2020-master\\data'\n",
    "filenames = glob.glob(path + \"\\*.csv\")\n",
    "\n",
    "#list of the given data for 5 years\n",
    "df_list = []\n",
    "for filename in filenames:\n",
    "    df_list.append(pd.read_csv(filename))\n",
    "    \n",
    "# Example:\n",
    "df_list[0].head()   "
   ]
  },
  {
   "cell_type": "markdown",
   "metadata": {},
   "source": [
    "### Creating a baseline of seasonally adjusted 2020 Queensland electricity:"
   ]
  },
  {
   "cell_type": "code",
   "execution_count": 3,
   "metadata": {},
   "outputs": [],
   "source": [
    "# list of the given data for 5 years excluding the first 3 columns\n",
    "df_list2 = []\n",
    "\n",
    "for i in range(0, len(df_list)):\n",
    "    df_list2.append(df_list[i].iloc[:, 3:])\n",
    "\n",
    "# Getting average on all 5 years\n",
    "glued = pd.concat([df_list2[0],df_list2[1],df_list2[2],df_list2[3],df_list2[4]], axis=1, keys=['x', 'y','z', 'u','v'])\n",
    "avg=glued.groupby(level=1, axis=1).mean()\n",
    "\n",
    "\n",
    "# Adding back Month and Day columns\n",
    "df_avg  = pd.concat([df_list[0].iloc[:, 1:3],avg], axis=1)\n",
    "df_avg.to_csv('2020Prediction.csv', index=False)\n",
    "\n"
   ]
  },
  {
   "cell_type": "markdown",
   "metadata": {},
   "source": [
    "##### Function of demand perdiction for a particular selected day:\n"
   ]
  },
  {
   "cell_type": "code",
   "execution_count": 4,
   "metadata": {},
   "outputs": [],
   "source": [
    "#Concating 5 years data and converting to numpy arrays\n",
    "five_years= pd.concat(df_list)\n",
    "five_years=five_years.to_numpy()\n",
    "\n",
    "# April\n",
    "month=4\n",
    "\n",
    "#Function\n",
    "def forecast(day):\n",
    "    \n",
    "    #list of selected day in 5 years:\n",
    "    selected_day=[]\n",
    "    \n",
    "    # Finding the indices for selected month\n",
    "    month_indices= np.where(five_years[:,1] == month)\n",
    "\n",
    "    # Finding the indices for selected day\n",
    "    day_indices= np.where(five_years[:,2] == day)\n",
    "\n",
    "    for i in month_indices[0]:\n",
    "        if i in day_indices[0]:\n",
    "\n",
    "            selected_day.append(five_years[i,3:])\n",
    "            \n",
    "    # Returning predicted demand for selected day in 48 half hourly intervals\n",
    "    return(sum(selected_day)/5)        \n"
   ]
  },
  {
   "cell_type": "markdown",
   "metadata": {},
   "source": [
    "### Loading the daily actual demands (from AEMO) and reshaping "
   ]
  },
  {
   "cell_type": "code",
   "execution_count": 5,
   "metadata": {},
   "outputs": [
    {
     "data": {
      "text/html": [
       "<div>\n",
       "<style scoped>\n",
       "    .dataframe tbody tr th:only-of-type {\n",
       "        vertical-align: middle;\n",
       "    }\n",
       "\n",
       "    .dataframe tbody tr th {\n",
       "        vertical-align: top;\n",
       "    }\n",
       "\n",
       "    .dataframe thead th {\n",
       "        text-align: right;\n",
       "    }\n",
       "</style>\n",
       "<table border=\"1\" class=\"dataframe\">\n",
       "  <thead>\n",
       "    <tr style=\"text-align: right;\">\n",
       "      <th></th>\n",
       "      <th>REGION</th>\n",
       "      <th>SETTLEMENTDATE</th>\n",
       "      <th>TOTALDEMAND</th>\n",
       "      <th>RRP</th>\n",
       "      <th>PERIODTYPE</th>\n",
       "    </tr>\n",
       "  </thead>\n",
       "  <tbody>\n",
       "    <tr>\n",
       "      <th>0</th>\n",
       "      <td>QLD1</td>\n",
       "      <td>1/04/2020 0:30</td>\n",
       "      <td>5710.84</td>\n",
       "      <td>48.67</td>\n",
       "      <td>TRADE</td>\n",
       "    </tr>\n",
       "    <tr>\n",
       "      <th>1</th>\n",
       "      <td>QLD1</td>\n",
       "      <td>1/04/2020 1:00</td>\n",
       "      <td>5604.44</td>\n",
       "      <td>51.50</td>\n",
       "      <td>TRADE</td>\n",
       "    </tr>\n",
       "    <tr>\n",
       "      <th>2</th>\n",
       "      <td>QLD1</td>\n",
       "      <td>1/04/2020 1:30</td>\n",
       "      <td>5511.97</td>\n",
       "      <td>49.06</td>\n",
       "      <td>TRADE</td>\n",
       "    </tr>\n",
       "    <tr>\n",
       "      <th>3</th>\n",
       "      <td>QLD1</td>\n",
       "      <td>1/04/2020 2:00</td>\n",
       "      <td>5419.03</td>\n",
       "      <td>46.53</td>\n",
       "      <td>TRADE</td>\n",
       "    </tr>\n",
       "    <tr>\n",
       "      <th>4</th>\n",
       "      <td>QLD1</td>\n",
       "      <td>1/04/2020 2:30</td>\n",
       "      <td>5406.11</td>\n",
       "      <td>38.32</td>\n",
       "      <td>TRADE</td>\n",
       "    </tr>\n",
       "  </tbody>\n",
       "</table>\n",
       "</div>"
      ],
      "text/plain": [
       "  REGION  SETTLEMENTDATE  TOTALDEMAND    RRP PERIODTYPE\n",
       "0   QLD1  1/04/2020 0:30      5710.84  48.67      TRADE\n",
       "1   QLD1  1/04/2020 1:00      5604.44  51.50      TRADE\n",
       "2   QLD1  1/04/2020 1:30      5511.97  49.06      TRADE\n",
       "3   QLD1  1/04/2020 2:00      5419.03  46.53      TRADE\n",
       "4   QLD1  1/04/2020 2:30      5406.11  38.32      TRADE"
      ]
     },
     "execution_count": 5,
     "metadata": {},
     "output_type": "execute_result"
    }
   ],
   "source": [
    "df_act = pd.read_csv (r'C:\\Users\\moja\\Downloads\\recruitment-challenge-2020-master\\PRICE_AND_DEMAND_202004_QLD1.csv')\n",
    "df_act.head()   \n",
    "    "
   ]
  },
  {
   "cell_type": "code",
   "execution_count": 6,
   "metadata": {},
   "outputs": [
    {
     "data": {
      "text/html": [
       "<div>\n",
       "<style scoped>\n",
       "    .dataframe tbody tr th:only-of-type {\n",
       "        vertical-align: middle;\n",
       "    }\n",
       "\n",
       "    .dataframe tbody tr th {\n",
       "        vertical-align: top;\n",
       "    }\n",
       "\n",
       "    .dataframe thead th {\n",
       "        text-align: right;\n",
       "    }\n",
       "</style>\n",
       "<table border=\"1\" class=\"dataframe\">\n",
       "  <thead>\n",
       "    <tr style=\"text-align: right;\">\n",
       "      <th></th>\n",
       "      <th>Day</th>\n",
       "      <th>Time</th>\n",
       "      <th>Total_demand</th>\n",
       "      <th>Order</th>\n",
       "    </tr>\n",
       "  </thead>\n",
       "  <tbody>\n",
       "    <tr>\n",
       "      <th>1439</th>\n",
       "      <td>1</td>\n",
       "      <td>0:00</td>\n",
       "      <td>5712.23</td>\n",
       "      <td>1</td>\n",
       "    </tr>\n",
       "    <tr>\n",
       "      <th>0</th>\n",
       "      <td>1</td>\n",
       "      <td>0:30</td>\n",
       "      <td>5710.84</td>\n",
       "      <td>2</td>\n",
       "    </tr>\n",
       "    <tr>\n",
       "      <th>1</th>\n",
       "      <td>1</td>\n",
       "      <td>1:00</td>\n",
       "      <td>5604.44</td>\n",
       "      <td>3</td>\n",
       "    </tr>\n",
       "    <tr>\n",
       "      <th>2</th>\n",
       "      <td>1</td>\n",
       "      <td>1:30</td>\n",
       "      <td>5511.97</td>\n",
       "      <td>4</td>\n",
       "    </tr>\n",
       "    <tr>\n",
       "      <th>3</th>\n",
       "      <td>1</td>\n",
       "      <td>2:00</td>\n",
       "      <td>5419.03</td>\n",
       "      <td>5</td>\n",
       "    </tr>\n",
       "  </tbody>\n",
       "</table>\n",
       "</div>"
      ],
      "text/plain": [
       "     Day  Time  Total_demand  Order\n",
       "1439   1  0:00       5712.23      1\n",
       "0      1  0:30       5710.84      2\n",
       "1      1  1:00       5604.44      3\n",
       "2      1  1:30       5511.97      4\n",
       "3      1  2:00       5419.03      5"
      ]
     },
     "execution_count": 6,
     "metadata": {},
     "output_type": "execute_result"
    }
   ],
   "source": [
    "#Splitting the \"SETTLEMENTDATE\" column to two \"Date\" and \"Time\" columns \n",
    "df_act2 = pd.DataFrame(df_act.SETTLEMENTDATE.str.split(' ',1).tolist(), columns = ['Day','Time'])\n",
    "df_act2['Day']=df_act2.Day.str.split('/').str[0]\n",
    "\n",
    "# Changing the header name and add to the new dataframe\n",
    "df_act2[\"Total_demand\"]=df_act[\"TOTALDEMAND\"]\n",
    "\n",
    "\n",
    "# Sorting the dataframe (shifting the last row to the first)\n",
    "new_col= list(range(2, len(df_act2)+1))\n",
    "new_col.append(1)\n",
    "df_act2['Order']= pd.DataFrame(new_col,columns =['Order'])\n",
    "df_act2=df_act2.sort_values(\"Order\")\n",
    "\n",
    "df_act2.head()"
   ]
  },
  {
   "cell_type": "markdown",
   "metadata": {},
   "source": [
    "###### Function of actual demand for a particular selected day:\n"
   ]
  },
  {
   "cell_type": "code",
   "execution_count": 7,
   "metadata": {},
   "outputs": [],
   "source": [
    "# converting to numpy arrays\n",
    "act_np=df_act2.to_numpy()\n",
    "\n",
    "#Function\n",
    "def actual(day):\n",
    "    \n",
    "    #list of selected day in 5 years:\n",
    "    selected_day=[]\n",
    "    \n",
    "    # Finding the indices for selected day\n",
    "    day_indices= np.where(act_np[:, 0].astype(np.float) == day)\n",
    "    \n",
    "    for i in day_indices[0]:\n",
    "        selected_day.append(act_np[i,2])\n",
    "        \n",
    "    # Returning predicted demand for selected day in 48 half hourly intervals    \n",
    "    return(selected_day)        \n"
   ]
  },
  {
   "cell_type": "markdown",
   "metadata": {},
   "source": [
    "## Plotting:\n"
   ]
  },
  {
   "cell_type": "code",
   "execution_count": 8,
   "metadata": {},
   "outputs": [
    {
     "data": {
      "application/vnd.jupyter.widget-view+json": {
       "model_id": "776f806e2c1b44809ca20eb950a66b67",
       "version_major": 2,
       "version_minor": 0
      },
      "text/plain": [
       "interactive(children=(IntSlider(value=15, description='i', max=30, min=1), Output()), _dom_classes=('widget-in…"
      ]
     },
     "metadata": {},
     "output_type": "display_data"
    },
    {
     "data": {
      "text/plain": [
       "<function __main__.Total_demand_each_day(i)>"
      ]
     },
     "execution_count": 8,
     "metadata": {},
     "output_type": "execute_result"
    }
   ],
   "source": [
    "# Daily demand (Prediction VS Actual)\n",
    "\n",
    "def Total_demand_each_day(i):\n",
    "    plt.plot(forecast(i), '-b')\n",
    "    plt.plot(actual(i), '-r')\n",
    "    plt.legend([\"Predict\", \"Actual\"])\n",
    "\n",
    "    plt.ylabel('Electricity demand')\n",
    "    plt.xlabel('Half-hour intervals')\n",
    "    plt.title('Daily demand (Prediction VS Actual)')    \n",
    "\n",
    "# Slider allows users to select which day to visualise\n",
    "interact(\n",
    "    Total_demand_each_day,\n",
    "    i=(1, 30)\n",
    ")"
   ]
  },
  {
   "cell_type": "code",
   "execution_count": 9,
   "metadata": {},
   "outputs": [
    {
     "data": {
      "text/plain": [
       "Text(0.5, 1.0, 'Electricity demand for the first weeek of April (Prediction VS Actual)')"
      ]
     },
     "execution_count": 9,
     "metadata": {},
     "output_type": "execute_result"
    },
    {
     "data": {
      "image/png": "[encoded data removed]",
      "text/plain": [
       "<Figure size 432x288 with 1 Axes>"
      ]
     },
     "metadata": {
      "needs_background": "light"
     },
     "output_type": "display_data"
    }
   ],
   "source": [
    "pred_week=[]\n",
    "act_week=[]\n",
    "\n",
    "for i in range (1,8):\n",
    "    pred_week.append(sum(forecast(i)))\n",
    "    act_week.append(sum(actual(i)))                 \n",
    "\n",
    "\n",
    "plt.plot(pred_week, '-b')\n",
    "plt.plot(act_week, '-r')\n",
    "plt.legend([\"Predict\", \"Actual\"])\n",
    "\n",
    "plt.ylabel('Electricity demand')\n",
    "plt.xlabel('Day')\n",
    "plt.title('Electricity demand for the first weeek of April (Prediction VS Actual)')  "
   ]
  },
  {
   "cell_type": "markdown",
   "metadata": {},
   "source": [
    "## Test:"
   ]
  },
  {
   "cell_type": "code",
   "execution_count": 10,
   "metadata": {},
   "outputs": [
    {
     "name": "stdout",
     "output_type": "stream",
     "text": [
      "RMSE: 418\n"
     ]
    }
   ],
   "source": [
    "# Mean Squared Error \n",
    "mse = mean_squared_error(forecast(1), actual(1))\n",
    "\n",
    "# Root Mean Squared Error\n",
    "rmse=math.sqrt(mse)\n",
    "print(\"RMSE:\", int(rmse))"
   ]
  }
 ],
 "metadata": {
  "kernelspec": {
   "display_name": "Python 3",
   "language": "python",
   "name": "python3"
  },
  "language_info": {
   "codemirror_mode": {
    "name": "ipython",
    "version": 3
   },
   "file_extension": ".py",
   "mimetype": "text/x-python",
   "name": "python",
   "nbconvert_exporter": "python",
   "pygments_lexer": "ipython3",
   "version": "3.8.5"
  }
 },
 "nbformat": 4,
 "nbformat_minor": 4
}
